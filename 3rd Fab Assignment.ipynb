{
 "cells": [
  {
   "cell_type": "markdown",
   "id": "b0b33497-9373-4e64-8e46-947927b1c351",
   "metadata": {},
   "source": [
    "# 3rd Fab Assignment "
   ]
  },
  {
   "cell_type": "markdown",
   "id": "9a1c6e8b-9ca1-4e65-b441-90aabb5a5a52",
   "metadata": {},
   "source": [
    "------------------------------------------------------------------------------------------------------------------------------------------------"
   ]
  },
  {
   "cell_type": "markdown",
   "id": "98fdba15-270c-4e67-bcb7-7eb7eaf72347",
   "metadata": {},
   "source": [
    "Q1. Which keyword is used to create a function? Create a function to return a list of odd numbers in the\n",
    "range of 1 to 25."
   ]
  },
  {
   "cell_type": "markdown",
   "id": "2da06529-e202-49f0-8d70-be146dfec66c",
   "metadata": {},
   "source": [
    "-> def is used to creat a function."
   ]
  },
  {
   "cell_type": "code",
   "execution_count": 12,
   "id": "35901073-192e-4209-abe8-7f8d46aa5d98",
   "metadata": {},
   "outputs": [],
   "source": [
    "def odd():\n",
    "    for i in range(26):\n",
    "        if i%2 != 0:\n",
    "            print(i)\n",
    "            i=i+1\n",
    "    "
   ]
  },
  {
   "cell_type": "code",
   "execution_count": 13,
   "id": "2bf93cfb-5af9-450e-9130-1cf14717ced6",
   "metadata": {},
   "outputs": [
    {
     "name": "stdout",
     "output_type": "stream",
     "text": [
      "1\n",
      "3\n",
      "5\n",
      "7\n",
      "9\n",
      "11\n",
      "13\n",
      "15\n",
      "17\n",
      "19\n",
      "21\n",
      "23\n",
      "25\n"
     ]
    }
   ],
   "source": [
    "odd()"
   ]
  },
  {
   "cell_type": "markdown",
   "id": "a6eb2b05-3012-4312-a85a-a34437bdf7c7",
   "metadata": {},
   "source": [
    "------------------------------------------------------------------------------------------------------------------------------------------------"
   ]
  },
  {
   "cell_type": "markdown",
   "id": "e3f15514-65cd-48a0-84c1-69e00a0db87e",
   "metadata": {},
   "source": [
    "Q2. Why *args and **kwargs is used in some functions? Create a function each for *args and **kwargs\n",
    "to demonstrate their use."
   ]
  },
  {
   "cell_type": "markdown",
   "id": "f3c6525e-bfb9-4e28-a6c4-add3a1f829cf",
   "metadata": {},
   "source": [
    "*args\n",
    "\n",
    "-> *args is used to get multipule arguments in the funcion.\n",
    "\n",
    "-> It will give the result in form of tuples.\n",
    "\n",
    "-> In the *args \"*\" defines that,you can get multiple arguments and args is nothing it is just arguments.\n",
    "\n",
    "-> You can write any word instead of args."
   ]
  },
  {
   "cell_type": "markdown",
   "id": "e3e3ba26-320c-4ff1-b351-899ea1c0df10",
   "metadata": {},
   "source": [
    "\n",
    "\n",
    "\n",
    "\n",
    "**kwargs\n",
    "\n",
    "-> **kwargs is similar to *args.\n",
    "\n",
    "-> Basically **kwargs is used when you want to get multlipule arguments in form of dictionary or keys&values."
   ]
  },
  {
   "cell_type": "code",
   "execution_count": 15,
   "id": "129be0a0-3410-41fa-8ab6-0a1764197bdc",
   "metadata": {},
   "outputs": [],
   "source": [
    "# *args\n",
    "\n",
    "def test1(*args):\n",
    "    return args"
   ]
  },
  {
   "cell_type": "code",
   "execution_count": 17,
   "id": "2e51b303-9c30-4cfe-b2dd-99a5c462ce29",
   "metadata": {},
   "outputs": [
    {
     "data": {
      "text/plain": [
       "(3, 4, 57, 'pwskills', 'Shudhanshu_Sir')"
      ]
     },
     "execution_count": 17,
     "metadata": {},
     "output_type": "execute_result"
    }
   ],
   "source": [
    "test1(3,4,57,\"pwskills\",\"Shudhanshu_Sir\")"
   ]
  },
  {
   "cell_type": "code",
   "execution_count": 18,
   "id": "4a96f65b-bba4-4295-b775-d285bcbc3c7a",
   "metadata": {},
   "outputs": [],
   "source": [
    "# **kwargs\n",
    "\n",
    "def test2(**kwargs):\n",
    "    return kwargs"
   ]
  },
  {
   "cell_type": "code",
   "execution_count": 21,
   "id": "309c0e3d-45a4-4283-83b0-7eb08766ce7a",
   "metadata": {},
   "outputs": [
    {
     "data": {
      "text/plain": [
       "{'one': 1, 'two': 2, 'three': 3}"
      ]
     },
     "execution_count": 21,
     "metadata": {},
     "output_type": "execute_result"
    }
   ],
   "source": [
    "test2(one=1,two=2,three=3)"
   ]
  },
  {
   "cell_type": "markdown",
   "id": "4909176d-bbab-47c6-8ce2-c18748dd6036",
   "metadata": {},
   "source": [
    "------------------------------------------------------------------------------------------------------------------------------------------------"
   ]
  },
  {
   "cell_type": "markdown",
   "id": "cbd794bf-48ab-45a6-8ff0-18f5dbd3c322",
   "metadata": {},
   "source": [
    "Q3. What is an iterator in python? Name the method used to initialise the iterator object and the method\n",
    "used for iteration. Use these methods to print the first five elements of the given list [2, 4, 6, 8, 10, 12, 14,\n",
    "16, 18, 20]."
   ]
  },
  {
   "cell_type": "markdown",
   "id": "df268026-8286-4821-adca-352c5a963dca",
   "metadata": {},
   "source": [
    "\n",
    "-> Iterator is an object that iterate over iterable objects like list,tuple,dictionary,set.\n",
    "\n",
    "-> The iterator object is initialized by iter() mehtod.\n",
    "\n",
    "-> It use next() method for iteration."
   ]
  },
  {
   "cell_type": "code",
   "execution_count": 22,
   "id": "1d3bf44e-0c41-471e-a458-195d4921aefb",
   "metadata": {},
   "outputs": [],
   "source": [
    "l=[2, 4, 6, 8, 10, 12, 14,16, 18, 20]"
   ]
  },
  {
   "cell_type": "code",
   "execution_count": 28,
   "id": "e51fcf2f-984d-409f-8105-e9ad8d9518d5",
   "metadata": {},
   "outputs": [],
   "source": [
    "l1=iter(l)"
   ]
  },
  {
   "cell_type": "code",
   "execution_count": 29,
   "id": "4faaf479-bb1c-4199-9268-cd24753e1c27",
   "metadata": {},
   "outputs": [
    {
     "data": {
      "text/plain": [
       "2"
      ]
     },
     "execution_count": 29,
     "metadata": {},
     "output_type": "execute_result"
    }
   ],
   "source": [
    "next(l1)"
   ]
  },
  {
   "cell_type": "code",
   "execution_count": 30,
   "id": "84ca6d5a-a8a2-4653-9037-49622e80287b",
   "metadata": {},
   "outputs": [
    {
     "data": {
      "text/plain": [
       "4"
      ]
     },
     "execution_count": 30,
     "metadata": {},
     "output_type": "execute_result"
    }
   ],
   "source": [
    "next(l1)"
   ]
  },
  {
   "cell_type": "code",
   "execution_count": 31,
   "id": "1b58584a-dfeb-4fd0-b8c8-228019cc6618",
   "metadata": {},
   "outputs": [
    {
     "data": {
      "text/plain": [
       "6"
      ]
     },
     "execution_count": 31,
     "metadata": {},
     "output_type": "execute_result"
    }
   ],
   "source": [
    "next(l1)"
   ]
  },
  {
   "cell_type": "code",
   "execution_count": 32,
   "id": "0e129ceb-1e23-40c1-995e-10748eab3d9c",
   "metadata": {},
   "outputs": [
    {
     "data": {
      "text/plain": [
       "8"
      ]
     },
     "execution_count": 32,
     "metadata": {},
     "output_type": "execute_result"
    }
   ],
   "source": [
    "next(l1)"
   ]
  },
  {
   "cell_type": "code",
   "execution_count": 33,
   "id": "f9604916-feb1-4168-b646-0d0c3137dd98",
   "metadata": {},
   "outputs": [
    {
     "data": {
      "text/plain": [
       "10"
      ]
     },
     "execution_count": 33,
     "metadata": {},
     "output_type": "execute_result"
    }
   ],
   "source": [
    "next(l1)"
   ]
  },
  {
   "cell_type": "markdown",
   "id": "3ae6e607-dbf7-4e01-a290-3a8a40f6507e",
   "metadata": {},
   "source": [
    "------------------------------------------------------------------------------------------------------------------------------------------------"
   ]
  },
  {
   "cell_type": "markdown",
   "id": "2d17f561-005c-4ded-881b-efd9b3131b39",
   "metadata": {},
   "source": [
    "Q4. What is a generator function in python? Why yield keyword is used? Give an example of a generator\n",
    "function."
   ]
  },
  {
   "cell_type": "markdown",
   "id": "d7810702-83e0-49da-b6be-a4de6cd5fa99",
   "metadata": {},
   "source": [
    "\n",
    "-> Basically gerator is an type of function.\n",
    "\n",
    "-> Generator function is use when the data is millions or billions in number.\n",
    "\n",
    "-> Instead of execute all data ,generator function execute the data set-by-step and give output simultaneously.\n",
    "\n",
    "-> Because of using generator function there will not generate issue of memory."
   ]
  },
  {
   "cell_type": "raw",
   "id": "ebcb645e-1e50-4f78-a886-182cc47cc018",
   "metadata": {},
   "source": []
  },
  {
   "cell_type": "markdown",
   "id": "69bf9c63-fcd7-4f57-a272-0079f5e8511c",
   "metadata": {},
   "source": [
    "Reasons of using yield .\n",
    "\n",
    "1.If you want fast execution when the size of dataset is big,the yield is best option.\n",
    "\n",
    "2.When the return dataset  is quit large,then instead of storing them into list yield is good for it.\n",
    "\n",
    "3.Yield is good for reduce memory consumption."
   ]
  },
  {
   "cell_type": "code",
   "execution_count": 35,
   "id": "6f6d3e43-f442-49d6-a645-961bb203abe1",
   "metadata": {},
   "outputs": [],
   "source": [
    "def fib_in_gen():\n",
    "    a,b=0,1\n",
    "    while True:\n",
    "        yield a\n",
    "        c=a+b\n",
    "        a=b\n",
    "        b=c"
   ]
  },
  {
   "cell_type": "code",
   "execution_count": 36,
   "id": "dad92f8e-9204-4aa8-89d3-d71aa03ae88b",
   "metadata": {},
   "outputs": [],
   "source": [
    "fib=fib_in_gen()"
   ]
  },
  {
   "cell_type": "code",
   "execution_count": 37,
   "id": "2f2f03f0-c063-4dae-985a-09fb49c50f0e",
   "metadata": {},
   "outputs": [
    {
     "data": {
      "text/plain": [
       "generator"
      ]
     },
     "execution_count": 37,
     "metadata": {},
     "output_type": "execute_result"
    }
   ],
   "source": [
    "type(fib)"
   ]
  },
  {
   "cell_type": "code",
   "execution_count": 38,
   "id": "dfb603ab-0bee-4d88-bcf5-7378d5c32157",
   "metadata": {},
   "outputs": [
    {
     "name": "stdout",
     "output_type": "stream",
     "text": [
      "0\n",
      "1\n",
      "1\n",
      "2\n",
      "3\n",
      "5\n",
      "8\n",
      "13\n",
      "21\n",
      "34\n"
     ]
    }
   ],
   "source": [
    "for i in range(10):\n",
    "    print(next(fib))"
   ]
  },
  {
   "cell_type": "markdown",
   "id": "45eaeba5-e624-4b9e-a84b-200129344c8b",
   "metadata": {},
   "source": [
    "------------------------------------------------------------------------------------------------------------------------------------------------"
   ]
  },
  {
   "cell_type": "markdown",
   "id": "560c8cef-b0a2-4894-95c3-10fce6164c6c",
   "metadata": {},
   "source": [
    "Q5. Create a generator function for prime numbers less than 1000. Use the next() method to print the\n",
    "first 20 prime numbers."
   ]
  },
  {
   "cell_type": "code",
   "execution_count": 2,
   "id": "49c6f042-7371-40ad-bfa5-ae4f8f790691",
   "metadata": {},
   "outputs": [
    {
     "name": "stdout",
     "output_type": "stream",
     "text": [
      "First 20 prime numbers less than 1000:\n",
      "2\n",
      "3\n",
      "5\n",
      "7\n",
      "11\n",
      "13\n",
      "17\n",
      "19\n",
      "23\n",
      "29\n",
      "31\n",
      "37\n",
      "41\n",
      "43\n",
      "47\n",
      "53\n",
      "59\n",
      "61\n",
      "67\n",
      "71\n"
     ]
    }
   ],
   "source": [
    "def prime_numbers_generator():\n",
    "    primes = []\n",
    "    for num in range(2, 1000):\n",
    "        for prime in primes:\n",
    "            if num % prime == 0:\n",
    "                break\n",
    "        else:\n",
    "            primes.append(num)\n",
    "            yield num\n",
    "\n",
    "prime_gen = prime_numbers_generator()\n",
    "\n",
    "print(\"First 20 prime numbers less than 1000:\")\n",
    "for i in range(20):\n",
    "    print(next(prime_gen))\n",
    "\n"
   ]
  },
  {
   "cell_type": "markdown",
   "id": "b5af51e9-0f67-41ad-b745-4477b704923f",
   "metadata": {},
   "source": [
    "------------------------------------------------------------------------------------------------------------------------------------------------"
   ]
  },
  {
   "cell_type": "markdown",
   "id": "bd0798d7-73e7-42d3-8e58-20eefd33ae27",
   "metadata": {},
   "source": [
    "Q6. Write a python program to print the first 10 Fibonacci numbers using a while loop."
   ]
  },
  {
   "cell_type": "code",
   "execution_count": 41,
   "id": "92ae9b8f-7cee-467f-97e5-333111ec1d0a",
   "metadata": {},
   "outputs": [
    {
     "name": "stdout",
     "output_type": "stream",
     "text": [
      "0\n",
      "1\n",
      "1\n",
      "2\n",
      "3\n",
      "5\n",
      "8\n",
      "13\n",
      "21\n",
      "34\n"
     ]
    }
   ],
   "source": [
    "n=1\n",
    "a,b=0,1\n",
    "while n<=10:\n",
    "    print(a)\n",
    "    c=a+b\n",
    "    a=b\n",
    "    b=c\n",
    "    n=n+1\n",
    "    "
   ]
  },
  {
   "cell_type": "markdown",
   "id": "1c213b40-8a35-45d5-9a98-19748fb62a71",
   "metadata": {},
   "source": [
    "------------------------------------------------------------------------------------------------------------------------------------------------"
   ]
  },
  {
   "cell_type": "markdown",
   "id": "96e0edd7-de1b-4e02-a48c-376ac8256961",
   "metadata": {},
   "source": [
    "Q7. Write a List Comprehension to iterate through the given string: ‘pwskills’.\n",
    "    Expected output: ['p', 'w', 's', 'k', 'i', 'l', 'l', 's']"
   ]
  },
  {
   "cell_type": "code",
   "execution_count": 43,
   "id": "18d1ff51-14b9-46a7-9bbb-daf248522f9b",
   "metadata": {},
   "outputs": [
    {
     "data": {
      "text/plain": [
       "[['p'], ['w'], ['s'], ['k'], ['i'], ['l'], ['l'], ['s']]"
      ]
     },
     "execution_count": 43,
     "metadata": {},
     "output_type": "execute_result"
    }
   ],
   "source": [
    "s=\"pwskills\"\n",
    "\n",
    "[i.split() for i in s]"
   ]
  },
  {
   "cell_type": "markdown",
   "id": "825beba5-75a8-4e15-89ab-15682d4d6be4",
   "metadata": {},
   "source": [
    "------------------------------------------------------------------------------------------------------------------------------------------------"
   ]
  },
  {
   "cell_type": "markdown",
   "id": "d59a2b8f-b5e0-4dd0-b82a-eb03d9380f5d",
   "metadata": {},
   "source": [
    "Q8. Write a python program to check whether a given number is Palindrome or not using a while loop."
   ]
  },
  {
   "cell_type": "code",
   "execution_count": 13,
   "id": "0f1c2211-2ddc-4221-8f3e-69fe773578fe",
   "metadata": {},
   "outputs": [
    {
     "name": "stdout",
     "output_type": "stream",
     "text": [
      "True\n",
      "False\n"
     ]
    }
   ],
   "source": [
    "def is_palindrome(num):\n",
    "    num_str = str(num)\n",
    "    start = 0\n",
    "    end = len(num_str) - 1\n",
    "\n",
    "    while start < end:\n",
    "        if num_str[start] != num_str[end]:\n",
    "            return False\n",
    "        start += 1\n",
    "        end -= 1\n",
    "\n",
    "    return True\n",
    "\n",
    "# Test the function with an example\n",
    "print(is_palindrome(121)) # Output: True\n",
    "print(is_palindrome(123)) # Output: False\n",
    "\n"
   ]
  },
  {
   "cell_type": "markdown",
   "id": "7b56481d-bb9c-481b-bd0a-f85e54bfcbf6",
   "metadata": {},
   "source": [
    "------------------------------------------------------------------------------------------------------------------------------------------------"
   ]
  },
  {
   "cell_type": "markdown",
   "id": "f788a4e7-2596-457f-9534-150c4dac781f",
   "metadata": {},
   "source": [
    "Q9. Write a code to print odd numbers from 1 to 100 using list comprehension."
   ]
  },
  {
   "cell_type": "code",
   "execution_count": 48,
   "id": "bb3dc5d9-6bee-46ff-be49-59c110995f71",
   "metadata": {},
   "outputs": [],
   "source": [
    "first=list(i for i in range(101))"
   ]
  },
  {
   "cell_type": "code",
   "execution_count": 47,
   "id": "ca431f4b-4b23-4436-957d-f8366aae683c",
   "metadata": {},
   "outputs": [
    {
     "data": {
      "text/plain": [
       "[1,\n",
       " 3,\n",
       " 5,\n",
       " 7,\n",
       " 9,\n",
       " 11,\n",
       " 13,\n",
       " 15,\n",
       " 17,\n",
       " 19,\n",
       " 21,\n",
       " 23,\n",
       " 25,\n",
       " 27,\n",
       " 29,\n",
       " 31,\n",
       " 33,\n",
       " 35,\n",
       " 37,\n",
       " 39,\n",
       " 41,\n",
       " 43,\n",
       " 45,\n",
       " 47,\n",
       " 49,\n",
       " 51,\n",
       " 53,\n",
       " 55,\n",
       " 57,\n",
       " 59,\n",
       " 61,\n",
       " 63,\n",
       " 65,\n",
       " 67,\n",
       " 69,\n",
       " 71,\n",
       " 73,\n",
       " 75,\n",
       " 77,\n",
       " 79,\n",
       " 81,\n",
       " 83,\n",
       " 85,\n",
       " 87,\n",
       " 89,\n",
       " 91,\n",
       " 93,\n",
       " 95,\n",
       " 97,\n",
       " 99]"
      ]
     },
     "execution_count": 47,
     "metadata": {},
     "output_type": "execute_result"
    }
   ],
   "source": [
    "list(i for i in first if i%2 != 0) "
   ]
  },
  {
   "cell_type": "code",
   "execution_count": 8,
   "id": "c9d60da9-4b0e-4ba6-975a-e1578ba4bf1d",
   "metadata": {},
   "outputs": [
    {
     "data": {
      "text/plain": [
       "0"
      ]
     },
     "execution_count": 8,
     "metadata": {},
     "output_type": "execute_result"
    }
   ],
   "source": [
    "4%2"
   ]
  },
  {
   "cell_type": "code",
   "execution_count": null,
   "id": "ff1e986b-5f1c-473b-b2cb-b56c85e57795",
   "metadata": {},
   "outputs": [],
   "source": []
  }
 ],
 "metadata": {
  "kernelspec": {
   "display_name": "Python 3 (ipykernel)",
   "language": "python",
   "name": "python3"
  },
  "language_info": {
   "codemirror_mode": {
    "name": "ipython",
    "version": 3
   },
   "file_extension": ".py",
   "mimetype": "text/x-python",
   "name": "python",
   "nbconvert_exporter": "python",
   "pygments_lexer": "ipython3",
   "version": "3.10.8"
  }
 },
 "nbformat": 4,
 "nbformat_minor": 5
}
